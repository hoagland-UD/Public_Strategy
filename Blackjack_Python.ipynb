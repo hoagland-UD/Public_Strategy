{
 "cells": [
  {
   "cell_type": "code",
   "execution_count": 1,
   "metadata": {},
   "outputs": [],
   "source": [
    "import numpy as np\n",
    "import random"
   ]
  },
  {
   "attachments": {},
   "cell_type": "markdown",
   "metadata": {},
   "source": [
    "## Blackjack Basic PLAYER Strategy & Rules"
   ]
  },
  {
   "cell_type": "code",
   "execution_count": 21,
   "metadata": {},
   "outputs": [],
   "source": [
    "def BlackJackStrategy(hand, dealer_card):\n",
    "    hard_count=sum(hand)\n",
    "    cards=len(hand)\n",
    "    aces_count= 1*(1 in hand)\n",
    "    soft_count=hard_count\n",
    "    good_cards=[1,7,8,9,10]     # I dont like this approach\n",
    "    \n",
    "    if cards<2:\n",
    "        return 'Not enough cards'\n",
    "    # Counts ace as an 11 unless it would cause a BUST\n",
    "    if hard_count<=11:\n",
    "        soft_count= hard_count + 10*aces_count\n",
    "    #Blackjack Conditions    \n",
    "    if cards==2 and soft_count==21:\n",
    "        return 'Blackjack'\n",
    "    # You would not want to Hit if hand is 19 or better\n",
    "    if soft_count>=19:\n",
    "        return 'Stay'\n",
    "    # These conditions need to be expanded, tested & tweaked (most notable for 6)\n",
    "    if hand==[9,9] and dealer_card not in [1,7,10]:\n",
    "        return 'Split'\n",
    "    \n",
    "    if hard_count>=17 :\n",
    "        return 'Stay'\n",
    "    \n",
    "    if cards>2:\n",
    "        if hard_count==soft_count:\n",
    "            if hard_count<=11:\n",
    "                return 'Hit'\n",
    "\n",
    "            if hard_count==12 and dealer_card <=3:\n",
    "                return 'Hit'\n",
    "\n",
    "            if dealer_card in good_cards:\n",
    "                return 'Hit'\n",
    "\n",
    "            return 'Stay'\n",
    "        \n",
    "        if soft_count<=17:\n",
    "            return 'Hit'\n",
    "        \n",
    "        if soft_count==18 and dealer_card in [1,9,10]:\n",
    "            return 'Hit'\n",
    "        \n",
    "        return 'Stay'\n",
    "    \n",
    "            \n",
    "    # All conditions for player's initial hands.    \n",
    "    if cards==2:\n",
    "        # Conditions for doubles that you should split\n",
    "        if hand[0]==hand[1]:\n",
    "            card= hand[0]\n",
    "            # ALWAYS SPLIT ACES!!!\n",
    "            if card==1:\n",
    "                return 'Split'\n",
    "            \n",
    "            if card==7 and dealer_card not in [1,8,9,10]:\n",
    "                return 'Split'\n",
    "                        \n",
    "            if card==8 and dealer_card!=1:\n",
    "                return 'Split'\n",
    "            \n",
    "            if card==9 and dealer_card not in [1,7,10]:\n",
    "                return 'Split'\n",
    "            \n",
    "            if card in [2,3,7] and dealer_card not in [1,8,9,10]:\n",
    "                return 'Split'\n",
    "            \n",
    "            if card==6 and dealer_card not in good_cards:\n",
    "                return 'Split'\n",
    "            \n",
    "            if card==4 and dealer_card in [5,6]:\n",
    "                return 'Split'\n",
    "        \n",
    "        # If one of player's Initial cards IS NOT an Ace    \n",
    "        if hard_count==soft_count:\n",
    "            \n",
    "            if hard_count==11 and dealer_card!=1:\n",
    "                return 'Double'\n",
    "            \n",
    "            if hard_count==10 and dealer_card not in [1,10]:\n",
    "                return 'Double'\n",
    "            \n",
    "            if hard_count==9 and dealer_card not in ([2]+ good_cards):\n",
    "                return 'Double'\n",
    "            # Catch-All for all hands not qualified above that are 11 & under. No risk of hit / no reason to stay\n",
    "            if hard_count<=11:\n",
    "                return 'Hit'\n",
    "\n",
    "            if hard_count==12 and dealer_card <=3:\n",
    "                return 'Hit'\n",
    "\n",
    "            if dealer_card in good_cards:\n",
    "                return 'Hit'\n",
    "\n",
    "            return 'Stay'\n",
    "            \n",
    "        # If one of player's Initial cards IS an Ace     \n",
    "        if hard_count!=soft_count:\n",
    "                          \n",
    "            if soft_count==18:\n",
    "                \n",
    "                if dealer_card not in ([2]+good_cards):\n",
    "                    return 'Double'\n",
    "                \n",
    "                if dealer_card in [2,7,8]:\n",
    "                    return 'Stay'\n",
    "                \n",
    "            if soft_count==17 and dealer_card in [3,4,5,6]:\n",
    "                return 'Double'\n",
    "            \n",
    "            if soft_count in [15,16] and dealer_card in [4,5,6]:\n",
    "                return 'Double'\n",
    "            \n",
    "            if soft_count in [13,14] and dealer_card in [5,6]:\n",
    "                return 'Double'\n",
    "            \n",
    "            return 'Hit'"
   ]
  },
  {
   "cell_type": "code",
   "execution_count": 4,
   "metadata": {},
   "outputs": [
    {
     "data": {
      "text/plain": [
       "'Double'"
      ]
     },
     "execution_count": 4,
     "metadata": {},
     "output_type": "execute_result"
    }
   ],
   "source": [
    "BlackJackStrategy([6,5], 6)"
   ]
  },
  {
   "attachments": {},
   "cell_type": "markdown",
   "metadata": {},
   "source": [
    "## One Hand Blackjack Simulator"
   ]
  },
  {
   "cell_type": "code",
   "execution_count": 5,
   "metadata": {},
   "outputs": [],
   "source": [
    "def blackjack_hand_result(bet=10, player_hand='q', dealer_card='q', hard_code= 4):\n",
    "    #Deck of cards, 4 types of 10\n",
    "    \n",
    "    deck=np.array([1,2,3,4,5,6,7,8,9,10,10,10,10])\n",
    "    \n",
    "    #hard stay condition for split aces\n",
    "    hard_stay=False\n",
    "    \n",
    "    #Creating a random hand if none is input\n",
    "    if type(player_hand)==str:\n",
    "    \n",
    "        player_hand=[random.choice(deck), random.choice(deck)]\n",
    "        \n",
    "    #Turning on hard stay for split aces\n",
    "    if player_hand==[1]:\n",
    "        hard_stay==True\n",
    "        \n",
    "    #Adding a 2nd card to hand after splits      \n",
    "    while len(player_hand)<2:\n",
    "        player_hand.append(random.choice(deck))\n",
    "        \n",
    "    #Creating dealer card, and dealer cards\n",
    "    if type(dealer_card)==str:\n",
    "    \n",
    "        dealer_card=random.choice(deck)\n",
    "        \n",
    "    dealer_cards=[dealer_card]\n",
    "    \n",
    "    \n",
    "    #If hard stay condition is false\n",
    "    if hard_stay==False:\n",
    "        \n",
    "        #Seeing if player hit blackjack\n",
    "        if BlackJackStrategy(player_hand, dealer_card) == 'Blackjack':\n",
    "            \n",
    "            #Seeing if casino also hit blackjack, in which case tie\n",
    "            dealer_cards.append(random.choice(deck))\n",
    "            if 1 in (dealer_cards):\n",
    "                if sum(dealer_cards)==11:\n",
    "                    return 0\n",
    "                \n",
    "             #Blackjack bonus, if not   \n",
    "            return bet*1.5\n",
    "        \n",
    "        if type(hard_code)== str:\n",
    "            if hard_code=='Hit':\n",
    "                player_hand.append(random.choice(deck))\n",
    "                return blackjack_hand_result(bet, player_hand, dealer_card, hard_code= 4)\n",
    "            \n",
    "            if hard_code=='Double':\n",
    "                if len(player_hand)==2:\n",
    "                    player_hand.append(random.choice(deck))\n",
    "                    bet= bet*2\n",
    "                    if sum(player_hand)>21:\n",
    "                        return 0 - bet\n",
    "                    \n",
    "                else:\n",
    "                    return 'Double Not Possible'\n",
    "                \n",
    "            if hard_code=='Split':\n",
    "                \n",
    "                if len(player_hand)==2: \n",
    "                    \n",
    "                    if player_hand[0]==player_hand[1]:        \n",
    "                        \n",
    "                        res = blackjack_hand_result(bet=bet, player_hand=[player_hand[0]], dealer_card=dealer_card, hard_code= 'Split')\n",
    "                        res+= blackjack_hand_result(bet=bet, player_hand=[player_hand[0]], dealer_card=dealer_card, hard_code= 'Split')\n",
    "\n",
    "                        return res \n",
    "                    \n",
    "                    else:\n",
    "                        return blackjack_hand_result(bet=bet, player_hand= player_hand, dealer_card=dealer_card)\n",
    "                    \n",
    "                else:\n",
    "                    return blackjack_hand_result(bet=bet, player_hand=player_hand, dealer_card=dealer_card)\n",
    "        \n",
    "        else:\n",
    "        #Seeing how often it says to 'hit'\n",
    "\n",
    "            while BlackJackStrategy(player_hand, dealer_card) == 'Hit':\n",
    "                #Adding one card for every hit\n",
    "                player_hand.append(random.choice(deck))\n",
    "\n",
    "                #Player loses bet if hand goes above 21\n",
    "                if sum(player_hand)>21:\n",
    "                    return 0- bet\n",
    "\n",
    "                #If player Doubles\n",
    "\n",
    "            if BlackJackStrategy(player_hand, dealer_card)=='Double':\n",
    "                #He gets exactly one extra card and the bet size is doubled\n",
    "                player_hand.append(random.choice(deck))\n",
    "                bet= bet * 2\n",
    "                if sum(player_hand)>21:\n",
    "                    return 0- bet\n",
    "\n",
    "                #If player Splits\n",
    "            if BlackJackStrategy(player_hand, dealer_card)== 'Split':\n",
    "\n",
    "                #Runs the sim twice, as different hands, slightly less variance than real life, but it's okay\n",
    "                res= blackjack_hand_result(bet, [player_hand[0]], dealer_card) \n",
    "                res+= blackjack_hand_result(bet, [player_hand[0]], dealer_card)\n",
    "                \n",
    "                return res\n",
    "        \n",
    "        while True:\n",
    "            #Plays out the blackjack hand from dealer's side\n",
    "            \n",
    "            #Give dealer extra card if loop hasn't broken\n",
    "            dealer_cards.append(random.choice(deck))\n",
    "            \n",
    "            #Keep track of sum of dealer's cards\n",
    "            dealer_score= sum(dealer_cards)\n",
    "            \n",
    "            #Keep track of soft score if dealer has an ace\n",
    "            soft_score= dealer_score\n",
    "            if dealer_score<=11 and 1 in dealer_cards:\n",
    "                soft_score+=10\n",
    "                \n",
    "            #If dealer gets blackjack you lose even if you have 21\n",
    "            if len(dealer_cards)==2 and soft_score==21:\n",
    "                return 0-bet\n",
    "                \n",
    "            #Keeps track of player's score     \n",
    "            player_score=sum(player_hand)\n",
    "            \n",
    "            #Uses soft score if that is better for player\n",
    "            if player_score<=11 and 1 in player_hand:\n",
    "                player_score+=10\n",
    "            \n",
    "            #Dealer stays on all 17s\n",
    "            if soft_score>=17:\n",
    "                \n",
    "                #If dealer bust, player wins bet\n",
    "                if soft_score>21:\n",
    "                    return bet\n",
    "                \n",
    "                #If player has more than dealer, player wins bet\n",
    "                if player_score>soft_score:\n",
    "                    return bet\n",
    "                \n",
    "                #Tie means no money changes hands\n",
    "                if player_score==soft_score:\n",
    "                    return 0\n",
    "                \n",
    "                #If player has lower, player loses bet\n",
    "                if player_score<soft_score:\n",
    "                    return 0 - bet\n",
    "       \n",
    "    \n",
    "    if hard_stay==True:\n",
    "        \n",
    "        #Plays out only dealer's side, as player has to stop after 1 card\n",
    "        while True:            \n",
    "\n",
    "                #Give dealer extra card if loop hasn't broken\n",
    "            dealer_cards.append(random.choice(deck))\n",
    "            \n",
    "            #Keep track of sum of dealer's cards\n",
    "            dealer_score= sum(dealer_cards)\n",
    "            \n",
    "            #Keep track of soft score if dealer has an ace\n",
    "            soft_score= dealer_score\n",
    "            if dealer_score<=11 and 1 in dealer_cards:\n",
    "                soft_score+=10\n",
    "                \n",
    "            #If dealer gets blackjack you lose even if you have 21\n",
    "            if len(dealer_cards)==2 and soft_score==21:\n",
    "                return 0-bet\n",
    "                \n",
    "            #Keeps track of player's score     \n",
    "            player_score=sum(player_hand)\n",
    "            \n",
    "            #Uses soft score if that is better for player\n",
    "            if player_score<=11 and 1 in player_hand:\n",
    "                player_score+=10\n",
    "                \n",
    "            #Dealer stays on all 17s\n",
    "            if soft_score>=17:\n",
    "                \n",
    "                #If dealer bust, player wins bet\n",
    "                if soft_score>21:\n",
    "                    return bet\n",
    "                \n",
    "                #If player has more than dealer, player wins bet\n",
    "                if player_score>soft_score:\n",
    "                    return bet\n",
    "                \n",
    "                #Tie means no money changes hands\n",
    "                if player_score==soft_score:\n",
    "                    return 0\n",
    "                \n",
    "                #If player has lower, player loses bet\n",
    "                if player_score<soft_score:\n",
    "                    return 0 - bet"
   ]
  },
  {
   "cell_type": "code",
   "execution_count": 9,
   "metadata": {},
   "outputs": [
    {
     "data": {
      "text/plain": [
       "1"
      ]
     },
     "execution_count": 9,
     "metadata": {},
     "output_type": "execute_result"
    }
   ],
   "source": [
    "blackjack_hand_result(bet=1)"
   ]
  },
  {
   "attachments": {},
   "cell_type": "markdown",
   "metadata": {},
   "source": [
    "## Multiple Hand Simulation => Test to see house edge in Blackjack"
   ]
  },
  {
   "cell_type": "code",
   "execution_count": 16,
   "metadata": {},
   "outputs": [],
   "source": [
    "def blackjack_sim(n_hands=50_000, player_h='q', dealer_c='q', bet=10, hard_c=4):\n",
    "    pnl=0\n",
    "    res=[]\n",
    "    p=player_h\n",
    "    q=len(player_h)\n",
    "    for i in range(n_hands):\n",
    "        pnl+= blackjack_hand_result(bet=bet, player_hand=p[:q], dealer_card=dealer_c, hard_code=hard_c)\n",
    "    return pnl"
   ]
  },
  {
   "cell_type": "code",
   "execution_count": 19,
   "metadata": {},
   "outputs": [
    {
     "data": {
      "text/plain": [
       "0.1096"
      ]
     },
     "execution_count": 19,
     "metadata": {},
     "output_type": "execute_result"
    }
   ],
   "source": [
    "#Simulates a million hands to estimate house edge\n",
    "house_edge=-100*(blackjack_sim(n_hands=1_000_000, bet=1) / 1_000_000)\n",
    "house_edge #percentage"
   ]
  },
  {
   "cell_type": "markdown",
   "metadata": {},
   "source": [
    "## Strategy Test: Double 7 vs 6"
   ]
  },
  {
   "cell_type": "code",
   "execution_count": null,
   "metadata": {},
   "outputs": [],
   "source": [
    "#Player profit from following basic strategy\n",
    "blackjack_sim(n_hands=100_000, player_h=[4,3], dealer_c=6, bet=1)"
   ]
  },
  {
   "cell_type": "code",
   "execution_count": 24,
   "metadata": {},
   "outputs": [
    {
     "data": {
      "text/plain": [
       "-1957.0"
      ]
     },
     "execution_count": 24,
     "metadata": {},
     "output_type": "execute_result"
    }
   ],
   "source": [
    "#Player Profit from following strategy\n",
    "blackjack_sim(n_hands=100_000, bet=1)"
   ]
  },
  {
   "cell_type": "code",
   "execution_count": null,
   "metadata": {},
   "outputs": [],
   "source": [
    "blackjack_sim(n_hands=100_000, player_h=[4,3], dealer_c=6, bet=1, hard_c='Double')"
   ]
  },
  {
   "cell_type": "markdown",
   "metadata": {},
   "source": [
    "## Strategy Test: Split 10s vs 6"
   ]
  },
  {
   "attachments": {},
   "cell_type": "markdown",
   "metadata": {},
   "source": [
    "blackjack_sim(n_hands=100_000, player_h=[10,10], dealer_c=6, bet=1)"
   ]
  },
  {
   "cell_type": "code",
   "execution_count": null,
   "metadata": {},
   "outputs": [],
   "source": [
    "blackjack_sim(n_hands=100_000, player_h=[10,10], dealer_c=6, bet=1, hard_c='Split')"
   ]
  }
 ],
 "metadata": {
  "kernelspec": {
   "display_name": "Python 3",
   "language": "python",
   "name": "python3"
  },
  "language_info": {
   "codemirror_mode": {
    "name": "ipython",
    "version": 3
   },
   "file_extension": ".py",
   "mimetype": "text/x-python",
   "name": "python",
   "nbconvert_exporter": "python",
   "pygments_lexer": "ipython3",
   "version": "3.9.7"
  },
  "orig_nbformat": 4,
  "vscode": {
   "interpreter": {
    "hash": "1e52bea486175052d9a9a8e24d8ac329544c77741df9158d752aac8e7ceb218f"
   }
  }
 },
 "nbformat": 4,
 "nbformat_minor": 2
}
